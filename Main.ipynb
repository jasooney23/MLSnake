{
 "cells": [
  {
   "cell_type": "markdown",
   "metadata": {},
   "source": [
    "### Changes\n",
    "Uses model.train_on_batch() instead of GradientTape.\n",
    "For the action that is being trained, uses standard target; for the \n",
    "other four actions, uses the current network's predictions as targets\n",
    "to negate any loss."
   ]
  },
  {
   "cell_type": "code",
   "execution_count": 1,
   "metadata": {
    "tags": []
   },
   "outputs": [
    {
     "name": "stdout",
     "output_type": "stream",
     "text": [
      "2.7.0\n",
      "[PhysicalDevice(name='/physical_device:GPU:0', device_type='GPU')]\n"
     ]
    }
   ],
   "source": [
    "# Import packages.\n",
    "import tensorflow as tf             # Tensorflow.\n",
    "import numpy as np                  # I chose NumPy instead of Pandas because it uses less RAM\n",
    "import matplotlib.pyplot as plt     # Plotting statistics.\n",
    "import time\n",
    "\n",
    "from MLSnake import Game_2 as snake\n",
    "from MLSnake import Agent_5 as agent\n",
    "from MLSnake import config as cfg\n",
    "\n",
    "print(tf.__version__)\n",
    "# This code allows for the GPU to be utilized properly.\n",
    "tf.autograph.set_verbosity(0)\n",
    "physical_devices = tf.config.list_physical_devices(\"GPU\")\n",
    "try:\n",
    "    tf.config.experimental.set_memory_growth(physical_devices[0], True)\n",
    "except:\n",
    "    pass\n",
    "\n",
    "print(physical_devices)"
   ]
  },
  {
   "cell_type": "code",
   "execution_count": 2,
   "metadata": {},
   "outputs": [],
   "source": [
    "def plot(data, x, y):\n",
    "    '''Plot statistics.'''\n",
    "    \n",
    "    print(y + \" v. \" + x)\n",
    "    plt.plot(data)\n",
    "    plt.xlabel(x)\n",
    "    plt.ylabel(y)\n",
    "    plt.show()\n",
    "    print()"
   ]
  },
  {
   "cell_type": "code",
   "execution_count": 3,
   "metadata": {
    "tags": []
   },
   "outputs": [
    {
     "name": "stdout",
     "output_type": "stream",
     "text": [
      "Total VRAM used after loading models: 0.00074112 GB\n",
      "Ran out of input\n",
      "Model: \"DQN1\"\n",
      "_________________________________________________________________\n",
      " Layer (type)                Output Shape              Param #   \n",
      "=================================================================\n",
      " conv2d (Conv2D)             (None, 16, 8, 8)          736       \n",
      "                                                                 \n",
      " conv2d_1 (Conv2D)           (None, 32, 4, 4)          4640      \n",
      "                                                                 \n",
      " flatten (Flatten)           (None, 512)               0         \n",
      "                                                                 \n",
      " dense (Dense)               (None, 128)               65664     \n",
      "                                                                 \n",
      " dense_1 (Dense)             (None, 5)                 645       \n",
      "                                                                 \n",
      "=================================================================\n",
      "Total params: 71,685\n",
      "Trainable params: 71,685\n",
      "Non-trainable params: 0\n",
      "_________________________________________________________________\n",
      "Model: \"DQN2\"\n",
      "_________________________________________________________________\n",
      " Layer (type)                Output Shape              Param #   \n",
      "=================================================================\n",
      " conv2d_2 (Conv2D)           (None, 16, 8, 8)          736       \n",
      "                                                                 \n",
      " conv2d_3 (Conv2D)           (None, 32, 4, 4)          4640      \n",
      "                                                                 \n",
      " flatten_1 (Flatten)         (None, 512)               0         \n",
      "                                                                 \n",
      " dense_2 (Dense)             (None, 128)               65664     \n",
      "                                                                 \n",
      " dense_3 (Dense)             (None, 5)                 645       \n",
      "                                                                 \n",
      "=================================================================\n",
      "Total params: 71,685\n",
      "Trainable params: 71,685\n",
      "Non-trainable params: 0\n",
      "_________________________________________________________________\n",
      "\n",
      "SAVING IN 5 SECONDS\n",
      "INFO:tensorflow:Assets written to: ./save/DQN1\\assets\n",
      "INFO:tensorflow:Assets written to: ./save/DQN2\\assets\n"
     ]
    }
   ],
   "source": [
    "game = snake.game()\n",
    "snake_agent = agent.agent(game)\n",
    "x = 0\n",
    "\n",
    "while True:\n",
    "    snake_agent.start()\n",
    "\n",
    "    if x % cfg.autosave_period == 0:\n",
    "        print()\n",
    "\n",
    "        print(\"SAVING IN 5 SECONDS\")\n",
    "        time.sleep(5)\n",
    "        snake_agent.save_all(cfg.save_path)\n",
    "\n",
    "        print(\"BACKING UP IN 5 SECONDS\")\n",
    "        time.sleep(5)\n",
    "        snake_agent.save_all(cfg.backup_path)\n",
    "\n",
    "        print(\"Frames played: \" + str(snake_agent.train_data[\"frames_played\"]))\n",
    "        print(\"Average score: \" + str(sum(snake_agent.stats[\"score\"]) / len(snake_agent.stats[\"score\"])))\n",
    "        print(f\"Average score (Last {cfg.autosave_period} episodes): \" + str(sum(snake_agent.stats[\"score\"][-cfg.autosave_period:]) / cfg.autosave_period))\n",
    "        print(\"Average loss: \" + str(sum(snake_agent.stats[\"loss\"]) / len(snake_agent.stats[\"loss\"])))\n",
    "        print(\"Average Q Value: \" + str(sum(snake_agent.stats[\"testing\"]) / len(snake_agent.stats[\"testing\"])))\n",
    "\n",
    "        plot(snake_agent.stats[\"score\"], \"EPISODE\", \"SCORE\")\n",
    "        plot(snake_agent.stats[\"loss\"], \"FRAME\", \"LOSS\")\n",
    "        # plot(snake_agent.stats[\"testing\"], \"EPISODE\", \"Q VALUE FOR TEST STATE\")\n",
    "\n",
    "        print()\n",
    "        print()\n",
    "    x += 1"
   ]
  },
  {
   "cell_type": "code",
   "execution_count": null,
   "metadata": {},
   "outputs": [],
   "source": []
  }
 ],
 "metadata": {
  "interpreter": {
   "hash": "e92005438139a4419431294f52efbb345a0cf152313ea7bfec8e749b14196e5a"
  },
  "kernelspec": {
   "display_name": "Python 3.8.8 64-bit ('tf': conda)",
   "name": "python3"
  },
  "language_info": {
   "codemirror_mode": {
    "name": "ipython",
    "version": 3
   },
   "file_extension": ".py",
   "mimetype": "text/x-python",
   "name": "python",
   "nbconvert_exporter": "python",
   "pygments_lexer": "ipython3",
   "version": "3.8.8"
  },
  "metadata": {
   "interpreter": {
    "hash": "e92005438139a4419431294f52efbb345a0cf152313ea7bfec8e749b14196e5a"
   }
  },
  "orig_nbformat": 2
 },
 "nbformat": 4,
 "nbformat_minor": 2
}
