{
 "metadata": {
  "language_info": {
   "codemirror_mode": {
    "name": "ipython",
    "version": 3
   },
   "file_extension": ".py",
   "mimetype": "text/x-python",
   "name": "python",
   "nbconvert_exporter": "python",
   "pygments_lexer": "ipython3",
   "version": "3.8.5"
  },
  "orig_nbformat": 2,
  "kernelspec": {
   "name": "python3",
   "display_name": "Python 3.8.5 64-bit ('MLSnake': conda)",
   "metadata": {
    "interpreter": {
     "hash": "8e7db409f32daf0ebe141d6924ccb65267048167d522663b4fdc180734dfeba3"
    }
   }
  }
 },
 "nbformat": 4,
 "nbformat_minor": 2,
 "cells": [
  {
   "source": [
    "### Changes\n",
    "Uses model.train_on_batch() instead of GradientTape.\n",
    "For the action that is being trained, uses standard target; for the \n",
    "other four actions, uses the current network's predictions as targets\n",
    "to negate any loss."
   ],
   "cell_type": "markdown",
   "metadata": {}
  },
  {
   "source": [
    "# Import packages.\n",
    "import queue, random, threading, math, time, pickle\n",
    "import tensorflow as tf             # Tensorflow.\n",
    "import numpy as np                  # I chose NumPy instead of Pandas because it uses less RAM.\n",
    "import tkinter as tkinter           # Required to control the game.\n",
    "import matplotlib.pyplot as plt     # Plotting statistics.\n",
    "\n",
    "from MLSnake import Game_2 as snake\n",
    "from MLSnake import Agent_2 as agent\n",
    "from MLSnake import config as cfg\n",
    "\n",
    "# This code allows for the GPU to be utilized properly.\n",
    "tf.autograph.set_verbosity(0)\n",
    "physical_devices = tf.config.list_physical_devices(\"GPU\")\n",
    "try:\n",
    "    tf.config.experimental.set_memory_growth(physical_devices[0], True)\n",
    "except:\n",
    "    pass\n",
    "\n",
    "print(physical_devices)"
   ],
   "cell_type": "code",
   "metadata": {
    "tags": []
   },
   "execution_count": 1,
   "outputs": [
    {
     "output_type": "stream",
     "name": "stdout",
     "text": [
      "[]\n"
     ]
    }
   ]
  },
  {
   "cell_type": "code",
   "execution_count": 2,
   "metadata": {},
   "outputs": [],
   "source": [
    "def plot(data, x, y):\n",
    "    '''Plot statistics.'''\n",
    "    \n",
    "    print(y + \" v. \" + x)\n",
    "    plt.plot(data)\n",
    "    plt.xlabel(x)\n",
    "    plt.ylabel(y)\n",
    "    plt.show()\n",
    "    print()"
   ]
  },
  {
   "source": [
    "game = snake.game()\n",
    "snake_agent = agent.agent(game)\n",
    "x = 0\n",
    "\n",
    "while True:\n",
    "    snake_agent.start()\n",
    "\n",
    "    if x % cfg.autosave_period == 0:\n",
    "        snake_agent.save_all()\n",
    "\n",
    "        print(\"Average score: \" + str(sum(snake_agent.stats[\"score\"]) / len(snake_agent.stats[\"score\"])))\n",
    "        print(\"Average loss: \" + str(sum(snake_agent.stats[\"loss\"]) / len(snake_agent.stats[\"loss\"])))\n",
    "        plot(snake_agent.stats[\"score\"], \"EPISODE\", \"SCORE\")\n",
    "        plot(snake_agent.stats[\"loss\"], \"FRAME\", \"LOSS\")\n",
    "    x += 1\n",
    "\n",
    "    # Trackthe score/performance of the agent.\n",
    "    snake_agent.stats[\"score\"].append(game.score)"
   ],
   "cell_type": "code",
   "metadata": {
    "tags": []
   },
   "execution_count": 3,
   "outputs": [
    {
     "output_type": "stream",
     "name": "stdout",
     "text": [
      "SavedModel file does not exist at: ./save/model/{saved_model.pbtxt|saved_model.pb}\n",
      "[Errno 2] No such file or directory: './save/train_data.dat'\n",
      "[Errno 2] No such file or directory: './save/states_memory.npy'\n",
      "Model: \"sequential\"\n",
      "_________________________________________________________________\n",
      "Layer (type)                 Output Shape              Param #   \n",
      "=================================================================\n",
      "dense (Dense)                (None, 170)               114920    \n",
      "_________________________________________________________________\n",
      "dense_1 (Dense)              (None, 5)                 855       \n",
      "=================================================================\n",
      "Total params: 115,775\n",
      "Trainable params: 115,775\n",
      "Non-trainable params: 0\n",
      "_________________________________________________________________\n",
      "Model: \"sequential_1\"\n",
      "_________________________________________________________________\n",
      "Layer (type)                 Output Shape              Param #   \n",
      "=================================================================\n",
      "dense_2 (Dense)              (None, 170)               114920    \n",
      "_________________________________________________________________\n",
      "dense_3 (Dense)              (None, 5)                 855       \n",
      "=================================================================\n",
      "Total params: 115,775\n",
      "Trainable params: 115,775\n",
      "Non-trainable params: 0\n",
      "_________________________________________________________________\n",
      "/Users/jason/Documents/Code Projects/MLSnake/MLSnake/Game_2.py:258: VisibleDeprecationWarning: Creating an ndarray from ragged nested sequences (which is a list-or-tuple of lists-or-tuples-or ndarrays with different lengths or shapes) is deprecated. If you meant to do this, you must specify 'dtype=object' when creating the ndarray\n",
      "  return np.array([self.get_state(), self.reward])\n",
      "WARNING:tensorflow:From /Users/jason/anaconda3/envs/MLSnake/lib/python3.8/site-packages/tensorflow/python/training/tracking/tracking.py:111: Model.state_updates (from tensorflow.python.keras.engine.training) is deprecated and will be removed in a future version.\n",
      "Instructions for updating:\n",
      "This property should not be used in TensorFlow 2.0, as updates are applied automatically.\n",
      "WARNING:tensorflow:From /Users/jason/anaconda3/envs/MLSnake/lib/python3.8/site-packages/tensorflow/python/training/tracking/tracking.py:111: Layer.updates (from tensorflow.python.keras.engine.base_layer) is deprecated and will be removed in a future version.\n",
      "Instructions for updating:\n",
      "This property should not be used in TensorFlow 2.0, as updates are applied automatically.\n",
      "INFO:tensorflow:Assets written to: ./save/model/assets\n",
      "INFO:tensorflow:Assets written to: ./save/target_model/assets\n"
     ]
    }
   ]
  },
  {
   "cell_type": "code",
   "execution_count": null,
   "metadata": {},
   "outputs": [],
   "source": []
  }
 ]
}