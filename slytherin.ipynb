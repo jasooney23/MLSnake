{
 "metadata": {
  "language_info": {
   "codemirror_mode": {
    "name": "ipython",
    "version": 3
   },
   "file_extension": ".py",
   "mimetype": "text/x-python",
   "name": "python",
   "nbconvert_exporter": "python",
   "pygments_lexer": "ipython3",
   "version": "3.7.7-final"
  },
  "orig_nbformat": 2,
  "kernelspec": {
   "name": "python_defaultSpec_1599070872370",
   "display_name": "Python 3.7.0 64-bit ('MLSnake': conda)"
  }
 },
 "nbformat": 4,
 "nbformat_minor": 2,
 "cells": [
  {
   "cell_type": "markdown",
   "metadata": {},
   "source": [
    "#### Q Table: Running this cell resets the table."
   ]
  },
  {
   "cell_type": "code",
   "execution_count": 1,
   "metadata": {},
   "outputs": [],
   "source": [
    "q = {}"
   ]
  },
  {
   "cell_type": "markdown",
   "metadata": {},
   "source": [
    "#### Only needs to be run to reset snake.py module."
   ]
  },
  {
   "cell_type": "code",
   "execution_count": 2,
   "metadata": {
    "tags": []
   },
   "outputs": [],
   "source": [
    "import snake, threading, time, random, queue, random\n",
    "import tkinter as tk\n",
    "import cupy as cp\n",
    "directions = [\"UP\", \"DOWN\", \"LEFT\", \"RIGHT\"]\n",
    "return_queue = queue.Queue(1)"
   ]
  },
  {
   "cell_type": "markdown",
   "metadata": {},
   "source": [
    "#### Hyperparameters."
   ]
  },
  {
   "cell_type": "code",
   "execution_count": 3,
   "metadata": {},
   "outputs": [],
   "source": [
    "epsilon = 0.1\n",
    "discount = 0.8\n",
    "rate = 2\n",
    "many_info = False"
   ]
  },
  {
   "cell_type": "markdown",
   "metadata": {},
   "source": [
    "#### Agent functions."
   ]
  },
  {
   "cell_type": "code",
   "execution_count": 4,
   "metadata": {},
   "outputs": [],
   "source": [
    "def flatten_state(state):\n",
    "    flat = \"\"\n",
    "    for y in state:\n",
    "        for x in y:\n",
    "            flat += str(int(x))\n",
    "    return flat"
   ]
  },
  {
   "cell_type": "code",
   "execution_count": 5,
   "metadata": {},
   "outputs": [],
   "source": [
    "def init_state(flat):\n",
    "    q[flat] = cp.array([random.random(), random.random(), random.random(), random.random()])"
   ]
  },
  {
   "cell_type": "code",
   "execution_count": 6,
   "metadata": {},
   "outputs": [],
   "source": [
    "def update(flat, action, reward, transition):\n",
    "    if not transition in q:\n",
    "        init_state(transition)\n",
    "\n",
    "    if many_info:\n",
    "        print()\n",
    "        print(\"Updated Q Value for state: \")\n",
    "        print(\">> Function: {0} + {1}({2} + {3} * {4} - {5})\".format(q[flat][action], rate, reward, discount, cp.max(q[transition]), q[flat]                 [action]))\n",
    "    \n",
    "    prev_value = q[flat][action]\n",
    "    q[flat][action] = q[flat][action] + rate * (reward + discount * cp.max(q[transition]) - q[flat][action])\n",
    "    \n",
    "    if many_info:\n",
    "        print(\">> New value: \" + str(q[flat][action]))\n",
    "        print(\">> Old value: \" + str(prev_value))"
   ]
  },
  {
   "cell_type": "code",
   "execution_count": 7,
   "metadata": {},
   "outputs": [],
   "source": [
    "def epsilon_greed(flat):\n",
    "    p = random.random()\n",
    "\n",
    "    if many_info:\n",
    "        print()\n",
    "        \n",
    "    if p < epsilon:\n",
    "        action = directions[random.randint(0, 3)]\n",
    "\n",
    "        if many_info:\n",
    "            print(\"Stepping game with random action: \" + action)\n",
    "        \n",
    "        return action\n",
    "    else:\n",
    "        action = directions[int(cp.argmax(q[flat]))]\n",
    "        \n",
    "        if many_info:\n",
    "            print(\"Stepping game with greedy action: \" + action)\n",
    "            print(\">> Q UP: \" + str(cp.max(q[flat][0])))\n",
    "            print(\">> Q DOWN: \" + str(cp.max(q[flat][1])))\n",
    "            print(\">> Q LEFT: \" + str(cp.max(q[flat][2])))\n",
    "            print(\">> Q RIGHT: \" + str(cp.max(q[flat][3])))\n",
    "\n",
    "        return action"
   ]
  },
  {
   "cell_type": "code",
   "execution_count": 8,
   "metadata": {
    "tags": []
   },
   "outputs": [],
   "source": [
    "def agent(game, epoch):\n",
    "    if many_info:\n",
    "        print(\"\\n\")\n",
    "        print(\"===================================================\")\n",
    "    print(\"Agent thread started, epoch \" + str(epoch) + \".\")\n",
    "\n",
    "    if not flatten_state(game.get_state()) in q:\n",
    "        init_state(flatten_state(game.get_state()))\n",
    "\n",
    "    time.sleep(0.01)\n",
    "\n",
    "    while game.running:\n",
    "        flat_t = flatten_state(game.get_state())\n",
    "        action_t = epsilon_greed(flat_t)\n",
    "\n",
    "        game.step(action_t)\n",
    "\n",
    "        while return_queue.empty():\n",
    "            if not game.running:\n",
    "                break\n",
    "\n",
    "        state_reward = return_queue.get()\n",
    "        update(flat_t, directions.index(action_t), state_reward[1], flatten_state(state_reward[0]))\n",
    "\n",
    "    print(\"Agent thread joined, scoring \" + str(game.score) + \" points.\")"
   ]
  },
  {
   "cell_type": "markdown",
   "metadata": {},
   "source": [
    "#### Start the game, and initialize the agent thread."
   ]
  },
  {
   "cell_type": "code",
   "execution_count": 9,
   "metadata": {
    "tags": [
     "outputPrepend"
    ]
   },
   "outputs": [
    {
     "output_type": "stream",
     "name": "stdout",
     "text": "ned, scoring 0 points.\nAgent thread started, epoch 680.\nAgent thread joined, scoring 0 points.\nAgent thread started, epoch 681.\nAgent thread joined, scoring 0 points.\nAgent thread started, epoch 682.\nAgent thread joined, scoring 0 points.\nAgent thread started, epoch 683.\nAgent thread joined, scoring 0 points.\nAgent thread started, epoch 684.\nAgent thread joined, scoring 0 points.\nAgent thread started, epoch 685.\nAgent thread joined, scoring 0 points.\nAgent thread started, epoch 686.\nAgent thread joined, scoring 2 points.\nAgent thread started, epoch 687.\nAgent thread joined, scoring 0 points.\nAgent thread started, epoch 688.\nAgent thread joined, scoring 1 points.\nAgent thread started, epoch 689.\nAgent thread joined, scoring 0 points.\nAgent thread started, epoch 690.\nAgent thread joined, scoring 0 points.\nAgent thread started, epoch 691.\nAgent thread joined, scoring 1 points.\nAgent thread started, epoch 692.\nAgent thread joined, scoring 1 points.\nAgent thread started, epoch 693.\nAgent thread joined, scoring 0 points.\nAgent thread started, epoch 694.\nAgent thread joined, scoring 0 points.\nAgent thread started, epoch 695.\nAgent thread joined, scoring 0 points.\nAgent thread started, epoch 696.\nAgent thread joined, scoring 0 points.\nAgent thread started, epoch 697.\nAgent thread joined, scoring 0 points.\nAgent thread started, epoch 698.\nAgent thread joined, scoring 0 points.\nAgent thread started, epoch 699.\nAgent thread joined, scoring 0 points.\nAgent thread started, epoch 700.\nAgent thread joined, scoring 0 points.\nAgent thread started, epoch 701.\nAgent thread joined, scoring 0 points.\nAgent thread started, epoch 702.\nAgent thread joined, scoring 0 points.\nAgent thread started, epoch 703.\nAgent thread joined, scoring 0 points.\nAgent thread started, epoch 704.\nAgent thread joined, scoring 0 points.\nAgent thread started, epoch 705.\nAgent thread joined, scoring 0 points.\nAgent thread started, epoch 706.\nAgent thread joined, scoring 0 points.\nAgent thread started, epoch 707.\nAgent thread joined, scoring 1 points.\nAgent thread started, epoch 708.\nAgent thread joined, scoring 0 points.\nAgent thread started, epoch 709.\nAgent thread joined, scoring 0 points.\nAgent thread started, epoch 710.\nAgent thread joined, scoring 0 points.\nAgent thread started, epoch 711.\nAgent thread joined, scoring 1 points.\nAgent thread started, epoch 712.\nAgent thread joined, scoring 0 points.\nAgent thread started, epoch 713.\nAgent thread joined, scoring 0 points.\nAgent thread started, epoch 714.\nAgent thread joined, scoring 0 points.\nAgent thread started, epoch 715.\nAgent thread joined, scoring 0 points.\nAgent thread started, epoch 716.\nAgent thread joined, scoring 0 points.\nAgent thread started, epoch 717.\nAgent thread joined, scoring 0 points.\nAgent thread started, epoch 718.\nAgent thread joined, scoring 0 points.\nAgent thread started, epoch 719.\nAgent thread joined, scoring 2 points.\nAgent thread started, epoch 720.\nAgent thread joined, scoring 0 points.\nAgent thread started, epoch 721.\nAgent thread joined, scoring 0 points.\nAgent thread started, epoch 722.\nAgent thread joined, scoring 1 points.\nAgent thread started, epoch 723.\nAgent thread joined, scoring 0 points.\nAgent thread started, epoch 724.\nAgent thread joined, scoring 0 points.\nAgent thread started, epoch 725.\nAgent thread joined, scoring 1 points.\nAgent thread started, epoch 726.\nAgent thread joined, scoring 0 points.\nAgent thread started, epoch 727.\nAgent thread joined, scoring 0 points.\nAgent thread started, epoch 728.\nAgent thread joined, scoring 0 points.\nAgent thread started, epoch 729.\nAgent thread joined, scoring 0 points.\nAgent thread started, epoch 730.\nAgent thread joined, scoring 0 points.\nAgent thread started, epoch 731.\nAgent thread joined, scoring 0 points.\nAgent thread started, epoch 732.\nAgent thread joined, scoring 0 points.\nAgent thread started, epoch 733.\nAgent thread joined, scoring 0 points.\nAgent thread started, epoch 734.\nAgent thread joined, scoring 0 points.\nAgent thread started, epoch 735.\nAgent thread joined, scoring 0 points.\nAgent thread started, epoch 736.\nAgent thread joined, scoring 0 points.\nAgent thread started, epoch 737.\nAgent thread joined, scoring 1 points.\nAgent thread started, epoch 738.\nAgent thread joined, scoring 0 points.\nAgent thread started, epoch 739.\nAgent thread joined, scoring 0 points.\nAgent thread started, epoch 740.\nAgent thread joined, scoring 0 points.\nAgent thread started, epoch 741.\nAgent thread joined, scoring 0 points.\nAgent thread started, epoch 742.\nAgent thread joined, scoring 0 points.\nAgent thread started, epoch 743.\nAgent thread joined, scoring 0 points.\nAgent thread started, epoch 744.\nAgent thread joined, scoring 0 points.\nAgent thread started, epoch 745.\nAgent thread joined, scoring 0 points.\nAgent thread started, epoch 746.\nAgent thread joined, scoring 1 points.\nAgent thread started, epoch 747.\nAgent thread joined, scoring 0 points.\nAgent thread started, epoch 748.\nAgent thread joined, scoring 0 points.\nAgent thread started, epoch 749.\nAgent thread joined, scoring 0 points.\nAgent thread started, epoch 750.\nAgent thread joined, scoring 1 points.\nAgent thread started, epoch 751.\nAgent thread joined, scoring 0 points.\nAgent thread started, epoch 752.\nAgent thread joined, scoring 0 points.\nAgent thread started, epoch 753.\nAgent thread joined, scoring 0 points.\nAgent thread started, epoch 754.\nAgent thread joined, scoring 0 points.\nAgent thread started, epoch 755.\nAgent thread joined, scoring 0 points.\nAgent thread started, epoch 756.\nAgent thread joined, scoring 0 points.\nAgent thread started, epoch 757.\nAgent thread joined, scoring 0 points.\nAgent thread started, epoch 758.\nAgent thread joined, scoring 0 points.\nAgent thread started, epoch 759.\nAgent thread joined, scoring 0 points.\nAgent thread started, epoch 760.\nAgent thread joined, scoring 0 points.\nAgent thread started, epoch 761.\nAgent thread joined, scoring 0 points.\nAgent thread started, epoch 762.\nAgent thread joined, scoring 1 points.\nAgent thread started, epoch 763.\nAgent thread joined, scoring 0 points.\nAgent thread started, epoch 764.\nAgent thread joined, scoring 0 points.\nAgent thread started, epoch 765.\nAgent thread joined, scoring 0 points.\nAgent thread started, epoch 766.\nAgent thread joined, scoring 1 points.\nAgent thread started, epoch 767.\nAgent thread joined, scoring 0 points.\nAgent thread started, epoch 768.\nAgent thread joined, scoring 1 points.\nAgent thread started, epoch 769.\nAgent thread joined, scoring 2 points.\nAgent thread started, epoch 770.\nAgent thread joined, scoring 1 points.\nAgent thread started, epoch 771.\nAgent thread joined, scoring 1 points.\nAgent thread started, epoch 772.\nAgent thread joined, scoring 0 points.\nAgent thread started, epoch 773.\nAgent thread joined, scoring 1 points.\nAgent thread started, epoch 774.\nAgent thread joined, scoring 1 points.\nAgent thread started, epoch 775.\nAgent thread joined, scoring 1 points.\nAgent thread started, epoch 776.\nAgent thread joined, scoring 1 points.\nAgent thread started, epoch 777.\nAgent thread joined, scoring 0 points.\nAgent thread started, epoch 778.\nAgent thread joined, scoring 0 points.\nAgent thread started, epoch 779.\nAgent thread joined, scoring 0 points.\nAgent thread started, epoch 780.\nAgent thread joined, scoring 0 points.\nAgent thread started, epoch 781.\nAgent thread joined, scoring 0 points.\nAgent thread started, epoch 782.\nAgent thread joined, scoring 0 points.\nAgent thread started, epoch 783.\nAgent thread joined, scoring 1 points.\nAgent thread started, epoch 784.\nAgent thread joined, scoring 1 points.\nAgent thread started, epoch 785.\nAgent thread joined, scoring 2 points.\nAgent thread started, epoch 786.\nAgent thread joined, scoring 0 points.\nAgent thread started, epoch 787.\nAgent thread joined, scoring 0 points.\nAgent thread started, epoch 788.\nAgent thread joined, scoring 0 points.\nAgent thread started, epoch 789.\nAgent thread joined, scoring 0 points.\nAgent thread started, epoch 790.\nAgent thread joined, scoring 0 points.\nAgent thread started, epoch 791.\nAgent thread joined, scoring 0 points.\nAgent thread started, epoch 792.\nAgent thread joined, scoring 0 points.\nAgent thread started, epoch 793.\nAgent thread joined, scoring 0 points.\nAgent thread started, epoch 794.\nAgent thread joined, scoring 0 points.\nAgent thread started, epoch 795.\nAgent thread joined, scoring 0 points.\nAgent thread started, epoch 796.\nAgent thread joined, scoring 0 points.\nAgent thread started, epoch 797.\nAgent thread joined, scoring 0 points.\nAgent thread started, epoch 798.\nAgent thread joined, scoring 0 points.\nAgent thread started, epoch 799.\nAgent thread joined, scoring 0 points.\nAgent thread started, epoch 800.\nAgent thread joined, scoring 0 points.\nAgent thread started, epoch 801.\nAgent thread joined, scoring 0 points.\nAgent thread started, epoch 802.\nAgent thread joined, scoring 0 points.\nAgent thread started, epoch 803.\nAgent thread joined, scoring 0 points.\nAgent thread started, epoch 804.\nAgent thread joined, scoring 0 points.\nAgent thread started, epoch 805.\nAgent thread joined, scoring 0 points.\nAgent thread started, epoch 806.\nAgent thread joined, scoring 0 points.\nAgent thread started, epoch 807.\nAgent thread joined, scoring 0 points.\nAgent thread started, epoch 808.\nAgent thread joined, scoring 0 points.\nAgent thread started, epoch 809.\nAgent thread joined, scoring 0 points.\nAgent thread started, epoch 810.\nAgent thread joined, scoring 0 points.\nAgent thread started, epoch 811.\nAgent thread joined, scoring 1 points.\nAgent thread started, epoch 812.\nAgent thread joined, scoring 0 points.\nAgent thread started, epoch 813.\nAgent thread joined, scoring 0 points.\nAgent thread started, epoch 814.\nAgent thread joined, scoring 0 points.\nAgent thread started, epoch 815.\nAgent thread joined, scoring 0 points.\nAgent thread started, epoch 816.\nAgent thread joined, scoring 0 points.\nAgent thread started, epoch 817.\nAgent thread joined, scoring 0 points.\nAgent thread started, epoch 818.\nAgent thread joined, scoring 0 points.\nAgent thread started, epoch 819.\nAgent thread joined, scoring 0 points.\nAgent thread started, epoch 820.\nAgent thread joined, scoring 0 points.\nAgent thread started, epoch 821.\nAgent thread joined, scoring 0 points.\nAgent thread started, epoch 822.\nAgent thread joined, scoring 0 points.\nAgent thread started, epoch 823.\nAgent thread joined, scoring 2 points.\nAgent thread started, epoch 824.\nAgent thread joined, scoring 0 points.\nAgent thread started, epoch 825.\nAgent thread joined, scoring 0 points.\nAgent thread started, epoch 826.\nAgent thread joined, scoring 1 points.\nAgent thread started, epoch 827.\nAgent thread joined, scoring 1 points.\nAgent thread started, epoch 828.\nAgent thread joined, scoring 0 points.\nAgent thread started, epoch 829.\nAgent thread joined, scoring 1 points.\nAgent thread started, epoch 830.\nAgent thread joined, scoring 1 points.\nAgent thread started, epoch 831.\nAgent thread joined, scoring 1 points.\nAgent thread started, epoch 832.\nAgent thread joined, scoring 1 points.\nAgent thread started, epoch 833.\nAgent thread joined, scoring 2 points.\nAgent thread started, epoch 834.\nAgent thread joined, scoring 0 points.\nAgent thread started, epoch 835.\nAgent thread joined, scoring 1 points.\nAgent thread started, epoch 836.\nAgent thread joined, scoring 0 points.\nAgent thread started, epoch 837.\nAgent thread joined, scoring 0 points.\nAgent thread started, epoch 838.\nAgent thread joined, scoring 1 points.\nAgent thread started, epoch 839.\nAgent thread joined, scoring 1 points.\nAgent thread started, epoch 840.\nAgent thread joined, scoring 1 points.\nAgent thread started, epoch 841.\nAgent thread joined, scoring 0 points.\nAgent thread started, epoch 842.\nAgent thread joined, scoring 1 points.\nAgent thread started, epoch 843.\nAgent thread joined, scoring 0 points.\nAgent thread started, epoch 844.\nAgent thread joined, scoring 0 points.\nAgent thread started, epoch 845.\nAgent thread joined, scoring 1 points.\nAgent thread started, epoch 846.\nAgent thread joined, scoring 0 points.\nAgent thread started, epoch 847.\nAgent thread joined, scoring 1 points.\nAgent thread started, epoch 848.\nAgent thread joined, scoring 0 points.\nAgent thread started, epoch 849.\nAgent thread joined, scoring 0 points.\nAgent thread started, epoch 850.\nAgent thread joined, scoring 1 points.\nAgent thread started, epoch 851.\nAgent thread joined, scoring 0 points.\nAgent thread started, epoch 852.\nAgent thread joined, scoring 0 points.\nAgent thread started, epoch 853.\nAgent thread joined, scoring 0 points.\nAgent thread started, epoch 854.\nAgent thread joined, scoring 1 points.\nAgent thread started, epoch 855.\nAgent thread joined, scoring 0 points.\nAgent thread started, epoch 856.\nAgent thread joined, scoring 0 points.\nAgent thread started, epoch 857.\nAgent thread joined, scoring 1 points.\nAgent thread started, epoch 858.\nAgent thread joined, scoring 0 points.\nAgent thread started, epoch 859.\nAgent thread joined, scoring 0 points.\nAgent thread started, epoch 860.\nAgent thread joined, scoring 0 points.\nAgent thread started, epoch 861.\nAgent thread joined, scoring 0 points.\nAgent thread started, epoch 862.\nAgent thread joined, scoring 0 points.\nAgent thread started, epoch 863.\nAgent thread joined, scoring 1 points.\nAgent thread started, epoch 864.\nAgent thread joined, scoring 0 points.\nAgent thread started, epoch 865.\nAgent thread joined, scoring 0 points.\nAgent thread started, epoch 866.\nAgent thread joined, scoring 1 points.\nAgent thread started, epoch 867.\nAgent thread joined, scoring 0 points.\nAgent thread started, epoch 868.\nAgent thread joined, scoring 0 points.\nAgent thread started, epoch 869.\nAgent thread joined, scoring 0 points.\nAgent thread started, epoch 870.\nAgent thread joined, scoring 0 points.\nAgent thread started, epoch 871.\nAgent thread joined, scoring 0 points.\nAgent thread started, epoch 872.\nAgent thread joined, scoring 0 points.\nAgent thread started, epoch 873.\nAgent thread joined, scoring 0 points.\nAgent thread started, epoch 874.\nAgent thread joined, scoring 0 points.\nAgent thread started, epoch 875.\nAgent thread joined, scoring 0 points.\nAgent thread started, epoch 876.\nAgent thread joined, scoring 1 points.\nAgent thread started, epoch 877.\nAgent thread joined, scoring 1 points.\nAgent thread started, epoch 878.\nAgent thread joined, scoring 0 points.\nAgent thread started, epoch 879.\nAgent thread joined, scoring 0 points.\nAgent thread started, epoch 880.\nAgent thread joined, scoring 0 points.\nAgent thread started, epoch 881.\nAgent thread joined, scoring 0 points.\nAgent thread started, epoch 882.\nAgent thread joined, scoring 0 points.\nAgent thread started, epoch 883.\nAgent thread joined, scoring 1 points.\nAgent thread started, epoch 884.\nAgent thread joined, scoring 0 points.\nAgent thread started, epoch 885.\nAgent thread joined, scoring 0 points.\nAgent thread started, epoch 886.\nAgent thread joined, scoring 0 points.\nAgent thread started, epoch 887.\nAgent thread joined, scoring 0 points.\nAgent thread started, epoch 888.\nAgent thread joined, scoring 0 points.\nAgent thread started, epoch 889.\nAgent thread joined, scoring 0 points.\nAgent thread started, epoch 890.\nAgent thread joined, scoring 0 points.\nAgent thread started, epoch 891.\nAgent thread joined, scoring 0 points.\nAgent thread started, epoch 892.\nAgent thread joined, scoring 0 points.\nAgent thread started, epoch 893.\nAgent thread joined, scoring 0 points.\nAgent thread started, epoch 894.\nAgent thread joined, scoring 1 points.\nAgent thread started, epoch 895.\nAgent thread joined, scoring 0 points.\nAgent thread started, epoch 896.\nAgent thread joined, scoring 0 points.\nAgent thread started, epoch 897.\nAgent thread joined, scoring 0 points.\nAgent thread started, epoch 898.\nAgent thread joined, scoring 0 points.\nAgent thread started, epoch 899.\nAgent thread joined, scoring 0 points.\nAgent thread started, epoch 900.\nAgent thread joined, scoring 0 points.\nAgent thread started, epoch 901.\nAgent thread joined, scoring 0 points.\nAgent thread started, epoch 902.\nAgent thread joined, scoring 0 points.\nAgent thread started, epoch 903.\nAgent thread joined, scoring 0 points.\nAgent thread started, epoch 904.\nAgent thread joined, scoring 0 points.\nAgent thread started, epoch 905.\nAgent thread joined, scoring 0 points.\nAgent thread started, epoch 906.\nAgent thread joined, scoring 1 points.\nAgent thread started, epoch 907.\nAgent thread joined, scoring 0 points.\nAgent thread started, epoch 908.\nAgent thread joined, scoring 0 points.\nAgent thread started, epoch 909.\nAgent thread joined, scoring 0 points.\nAgent thread started, epoch 910.\nAgent thread joined, scoring 0 points.\nAgent thread started, epoch 911.\nAgent thread joined, scoring 0 points.\nAgent thread started, epoch 912.\nAgent thread joined, scoring 0 points.\nAgent thread started, epoch 913.\nAgent thread joined, scoring 0 points.\nAgent thread started, epoch 914.\nAgent thread joined, scoring 0 points.\nAgent thread started, epoch 915.\nAgent thread joined, scoring 0 points.\nAgent thread started, epoch 916.\nAgent thread joined, scoring 0 points.\nAgent thread started, epoch 917.\nAgent thread joined, scoring 0 points.\nAgent thread started, epoch 918.\nAgent thread joined, scoring 0 points.\nAgent thread started, epoch 919.\nAgent thread joined, scoring 1 points.\nAgent thread started, epoch 920.\nAgent thread joined, scoring 0 points.\nAgent thread started, epoch 921.\nAgent thread joined, scoring 0 points.\nAgent thread started, epoch 922.\nAgent thread joined, scoring 0 points.\nAgent thread started, epoch 923.\nAgent thread joined, scoring 0 points.\nAgent thread started, epoch 924.\nAgent thread joined, scoring 0 points.\nAgent thread started, epoch 925.\nAgent thread joined, scoring 1 points.\nAgent thread started, epoch 926.\nAgent thread joined, scoring 0 points.\nAgent thread started, epoch 927.\nAgent thread joined, scoring 0 points.\nAgent thread started, epoch 928.\nAgent thread joined, scoring 0 points.\nAgent thread started, epoch 929.\nAgent thread joined, scoring 0 points.\nAgent thread started, epoch 930.\nAgent thread joined, scoring 0 points.\nAgent thread started, epoch 931.\nAgent thread joined, scoring 0 points.\nAgent thread started, epoch 932.\nAgent thread joined, scoring 0 points.\nAgent thread started, epoch 933.\nAgent thread joined, scoring 0 points.\nAgent thread started, epoch 934.\nAgent thread joined, scoring 0 points.\nAgent thread started, epoch 935.\nAgent thread joined, scoring 0 points.\nAgent thread started, epoch 936.\nAgent thread joined, scoring 1 points.\nAgent thread started, epoch 937.\nAgent thread joined, scoring 3 points.\nAgent thread started, epoch 938.\nAgent thread joined, scoring 0 points.\nAgent thread started, epoch 939.\nAgent thread joined, scoring 0 points.\nAgent thread started, epoch 940.\nAgent thread joined, scoring 0 points.\nAgent thread started, epoch 941.\nAgent thread joined, scoring 0 points.\nAgent thread started, epoch 942.\nAgent thread joined, scoring 0 points.\nAgent thread started, epoch 943.\nAgent thread joined, scoring 0 points.\nAgent thread started, epoch 944.\nAgent thread joined, scoring 0 points.\nAgent thread started, epoch 945.\nAgent thread joined, scoring 1 points.\nAgent thread started, epoch 946.\nAgent thread joined, scoring 0 points.\nAgent thread started, epoch 947.\nAgent thread joined, scoring 1 points.\nAgent thread started, epoch 948.\nAgent thread joined, scoring 1 points.\nAgent thread started, epoch 949.\nAgent thread joined, scoring 0 points.\nAgent thread started, epoch 950.\nAgent thread joined, scoring 0 points.\nAgent thread started, epoch 951.\nAgent thread joined, scoring 0 points.\nAgent thread started, epoch 952.\nAgent thread joined, scoring 0 points.\nAgent thread started, epoch 953.\nAgent thread joined, scoring 0 points.\nAgent thread started, epoch 954.\nAgent thread joined, scoring 0 points.\nAgent thread started, epoch 955.\nAgent thread joined, scoring 0 points.\nAgent thread started, epoch 956.\nAgent thread joined, scoring 1 points.\nAgent thread started, epoch 957.\n"
    }
   ],
   "source": [
    "game = snake.game(return_queue)\n",
    "\n",
    "for x in range(1000):\n",
    "    return_queue = queue.Queue(1)\n",
    "\n",
    "    agent_thread = threading.Thread(target=agent, args=(game, x))\n",
    "    agent_thread.start()\n",
    "\n",
    "    game.start(return_queue)\n",
    "    agent_thread.join()\n",
    "\n",
    "game.w.destroy()"
   ]
  },
  {
   "cell_type": "code",
   "execution_count": null,
   "metadata": {},
   "outputs": [],
   "source": []
  }
 ]
}