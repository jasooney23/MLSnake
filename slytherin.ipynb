{
 "metadata": {
  "language_info": {
   "codemirror_mode": {
    "name": "ipython",
    "version": 3
   },
   "file_extension": ".py",
   "mimetype": "text/x-python",
   "name": "python",
   "nbconvert_exporter": "python",
   "pygments_lexer": "ipython3",
   "version": "3.7.7-final"
  },
  "orig_nbformat": 2,
  "kernelspec": {
   "name": "Python 3.7.7 64-bit ('MLSnake': conda)",
   "display_name": "Python 3.7.7 64-bit ('MLSnake': conda)",
   "metadata": {
    "interpreter": {
     "hash": "b1af4f528c17cb738e64976452e28554f106c14c6d97ebb03ebf248c4117de78"
    }
   }
  }
 },
 "nbformat": 4,
 "nbformat_minor": 2,
 "cells": [
  {
   "cell_type": "markdown",
   "metadata": {},
   "source": [
    "#### Q Table: Running this cell resets the table."
   ]
  },
  {
   "cell_type": "code",
   "execution_count": 1,
   "metadata": {},
   "outputs": [],
   "source": [
    "q = {}"
   ]
  },
  {
   "cell_type": "markdown",
   "metadata": {},
   "source": [
    "#### Only needs to be run to reset snake.py module."
   ]
  },
  {
   "cell_type": "code",
   "execution_count": 2,
   "metadata": {
    "tags": []
   },
   "outputs": [],
   "source": [
    "import snake, threading, time, random, queue, random\n",
    "import tkinter as tk\n",
    "import cupy as cp\n",
    "directions = [\"UP\", \"DOWN\", \"LEFT\", \"RIGHT\"]"
   ]
  },
  {
   "cell_type": "markdown",
   "metadata": {},
   "source": [
    "#### Hyperparameters."
   ]
  },
  {
   "cell_type": "code",
   "execution_count": 3,
   "metadata": {},
   "outputs": [],
   "source": [
    "epsilon = 0.1\n",
    "discount = 0.8\n",
    "rate = 2\n",
    "many_info = False"
   ]
  },
  {
   "cell_type": "markdown",
   "metadata": {},
   "source": [
    "#### Agent functions."
   ]
  },
  {
   "cell_type": "code",
   "execution_count": 4,
   "metadata": {},
   "outputs": [],
   "source": [
    "def flatten_state(state):\n",
    "    flat = \"\"\n",
    "    for y in state:\n",
    "        for x in y:\n",
    "            flat += str(int(x))\n",
    "    return flat"
   ]
  },
  {
   "cell_type": "code",
   "execution_count": 5,
   "metadata": {},
   "outputs": [],
   "source": [
    "def init_state(flat):\n",
    "    q[flat] = cp.array([random.random(), random.random(), random.random(), random.random()])"
   ]
  },
  {
   "cell_type": "code",
   "execution_count": 6,
   "metadata": {},
   "outputs": [],
   "source": [
    "def update(flat, action, reward, transition):\n",
    "    if not transition in q:\n",
    "        init_state(transition)\n",
    "\n",
    "    if many_info:\n",
    "        print()\n",
    "        print(\"Updated Q Value for state: \")\n",
    "        print(\">> Function: {0} + {1}({2} + {3} * {4} - {5})\".format(q[flat][action], rate, reward, discount, cp.max(q[transition]), q[flat]                 [action]))\n",
    "    \n",
    "    prev_value = q[flat][action]\n",
    "    q[flat][action] = q[flat][action] + rate * (reward + discount * cp.max(q[transition]) - q[flat][action])\n",
    "    \n",
    "    if many_info:\n",
    "        print(\">> New value: \" + str(q[flat][action]))\n",
    "        print(\">> Old value: \" + str(prev_value))"
   ]
  },
  {
   "cell_type": "code",
   "execution_count": 7,
   "metadata": {},
   "outputs": [],
   "source": [
    "def epsilon_greed(flat):\n",
    "    p = random.random()\n",
    "\n",
    "    if many_info:\n",
    "        print()\n",
    "        \n",
    "    if p < epsilon:\n",
    "        action = directions[random.randint(0, 3)]\n",
    "\n",
    "        if many_info:\n",
    "            print(\"Stepping game with random action: \" + action)\n",
    "        \n",
    "        return action\n",
    "    else:\n",
    "        action = directions[int(cp.argmax(q[flat]))]\n",
    "        \n",
    "        if many_info:\n",
    "            print(\"Stepping game with greedy action: \" + action)\n",
    "            print(\">> Q UP: \" + str(cp.max(q[flat][0])))\n",
    "            print(\">> Q DOWN: \" + str(cp.max(q[flat][1])))\n",
    "            print(\">> Q LEFT: \" + str(cp.max(q[flat][2])))\n",
    "            print(\">> Q RIGHT: \" + str(cp.max(q[flat][3])))\n",
    "\n",
    "        return action"
   ]
  },
  {
   "cell_type": "code",
   "execution_count": 8,
   "metadata": {
    "tags": []
   },
   "outputs": [],
   "source": [
    "def agent(game, epoch):\n",
    "    if many_info:\n",
    "        print(\"\\n\")\n",
    "        print(\"===================================================\")\n",
    "    print(\"Agent thread started, epoch \" + str(epoch) + \".\")\n",
    "\n",
    "    if not flatten_state(game.get_state()) in q:\n",
    "        init_state(flatten_state(game.get_state()))\n",
    "\n",
    "    time.sleep(0.01)\n",
    "\n",
    "    while game.running:\n",
    "        flat_t = flatten_state(game.get_state())\n",
    "        action_t = epsilon_greed(flat_t)\n",
    "\n",
    "        game.step(action_t)\n",
    "\n",
    "        while return_queue.empty():\n",
    "            if not game.running:\n",
    "                break\n",
    "\n",
    "        state_reward = return_queue.get()\n",
    "        update(flat_t, directions.index(action_t), state_reward[1], flatten_state(state_reward[0]))\n",
    "\n",
    "    print(\"Agent thread joined, scoring \" + str(game.score) + \" points.\")"
   ]
  },
  {
   "cell_type": "markdown",
   "metadata": {},
   "source": [
    "#### Start the game, and initialize the agent thread."
   ]
  },
  {
   "cell_type": "code",
   "execution_count": 9,
   "metadata": {
    "tags": []
   },
   "outputs": [
    {
     "output_type": "stream",
     "name": "stdout",
     "text": [
      "Agent thread started, epoch 0.\n",
      "Agent thread joined, scoring 0 points.\n",
      "Agent thread started, epoch 1.\n",
      "Agent thread joined, scoring 0 points.\n",
      "Agent thread started, epoch 2.\n",
      "Agent thread joined, scoring 0 points.\n",
      "Agent thread started, epoch 3.\n",
      "Agent thread joined, scoring 0 points.\n",
      "Agent thread started, epoch 4.\n"
     ]
    },
    {
     "output_type": "error",
     "ename": "TclError",
     "evalue": "invalid command name \".!canvas\"",
     "traceback": [
      "\u001b[1;31m---------------------------------------------------------------------------\u001b[0m",
      "\u001b[1;31mTclError\u001b[0m                                  Traceback (most recent call last)",
      "\u001b[1;32m<ipython-input-9-f7e329d5b0c3>\u001b[0m in \u001b[0;36m<module>\u001b[1;34m\u001b[0m\n\u001b[0;32m      7\u001b[0m     \u001b[0magent_thread\u001b[0m\u001b[1;33m.\u001b[0m\u001b[0mstart\u001b[0m\u001b[1;33m(\u001b[0m\u001b[1;33m)\u001b[0m\u001b[1;33m\u001b[0m\u001b[1;33m\u001b[0m\u001b[0m\n\u001b[0;32m      8\u001b[0m \u001b[1;33m\u001b[0m\u001b[0m\n\u001b[1;32m----> 9\u001b[1;33m     \u001b[0mgame\u001b[0m\u001b[1;33m.\u001b[0m\u001b[0mstart\u001b[0m\u001b[1;33m(\u001b[0m\u001b[0mreturn_queue\u001b[0m\u001b[1;33m)\u001b[0m\u001b[1;33m\u001b[0m\u001b[1;33m\u001b[0m\u001b[0m\n\u001b[0m\u001b[0;32m     10\u001b[0m     \u001b[0magent_thread\u001b[0m\u001b[1;33m.\u001b[0m\u001b[0mjoin\u001b[0m\u001b[1;33m(\u001b[0m\u001b[1;33m)\u001b[0m\u001b[1;33m\u001b[0m\u001b[1;33m\u001b[0m\u001b[0m\n\u001b[0;32m     11\u001b[0m \u001b[1;33m\u001b[0m\u001b[0m\n",
      "\u001b[1;32mc:\\Users\\jason\\Documents\\Code Projects\\MLSnake\\snake.py\u001b[0m in \u001b[0;36mstart\u001b[1;34m(self, return_queue)\u001b[0m\n\u001b[0;32m    252\u001b[0m         \u001b[1;32mwhile\u001b[0m \u001b[0mself\u001b[0m\u001b[1;33m.\u001b[0m\u001b[0mrunning\u001b[0m\u001b[1;33m:\u001b[0m\u001b[1;33m\u001b[0m\u001b[1;33m\u001b[0m\u001b[0m\n\u001b[0;32m    253\u001b[0m             \u001b[1;32mif\u001b[0m \u001b[0mself\u001b[0m\u001b[1;33m.\u001b[0m\u001b[0mstep_queue\u001b[0m\u001b[1;33m.\u001b[0m\u001b[0mfull\u001b[0m\u001b[1;33m(\u001b[0m\u001b[1;33m)\u001b[0m\u001b[1;33m:\u001b[0m\u001b[1;33m\u001b[0m\u001b[1;33m\u001b[0m\u001b[0m\n\u001b[1;32m--> 254\u001b[1;33m                 \u001b[0mself\u001b[0m\u001b[1;33m.\u001b[0m\u001b[0mupdate\u001b[0m\u001b[1;33m(\u001b[0m\u001b[1;33m)\u001b[0m\u001b[1;33m\u001b[0m\u001b[1;33m\u001b[0m\u001b[0m\n\u001b[0m\u001b[0;32m    255\u001b[0m \u001b[1;33m\u001b[0m\u001b[0m\n\u001b[0;32m    256\u001b[0m \u001b[1;33m\u001b[0m\u001b[0m\n",
      "\u001b[1;32mc:\\Users\\jason\\Documents\\Code Projects\\MLSnake\\snake.py\u001b[0m in \u001b[0;36mupdate\u001b[1;34m(self)\u001b[0m\n\u001b[0;32m    202\u001b[0m                 \u001b[0mself\u001b[0m\u001b[1;33m.\u001b[0m\u001b[0msnake_list\u001b[0m\u001b[1;33m.\u001b[0m\u001b[0minsert\u001b[0m\u001b[1;33m(\u001b[0m\u001b[1;36m0\u001b[0m\u001b[1;33m,\u001b[0m \u001b[0mlast_segment\u001b[0m\u001b[1;33m)\u001b[0m\u001b[1;33m\u001b[0m\u001b[1;33m\u001b[0m\u001b[0m\n\u001b[0;32m    203\u001b[0m \u001b[1;33m\u001b[0m\u001b[0m\n\u001b[1;32m--> 204\u001b[1;33m             \u001b[0mself\u001b[0m\u001b[1;33m.\u001b[0m\u001b[0mdraw_update\u001b[0m\u001b[1;33m(\u001b[0m\u001b[1;33m)\u001b[0m\u001b[1;33m\u001b[0m\u001b[1;33m\u001b[0m\u001b[0m\n\u001b[0m\u001b[0;32m    205\u001b[0m         \u001b[1;32melse\u001b[0m\u001b[1;33m:\u001b[0m\u001b[1;33m\u001b[0m\u001b[1;33m\u001b[0m\u001b[0m\n\u001b[0;32m    206\u001b[0m             \u001b[0mself\u001b[0m\u001b[1;33m.\u001b[0m\u001b[0mrunning\u001b[0m \u001b[1;33m=\u001b[0m \u001b[1;32mFalse\u001b[0m\u001b[1;33m\u001b[0m\u001b[1;33m\u001b[0m\u001b[0m\n",
      "\u001b[1;32mc:\\Users\\jason\\Documents\\Code Projects\\MLSnake\\snake.py\u001b[0m in \u001b[0;36mdraw_update\u001b[1;34m(self)\u001b[0m\n\u001b[0;32m    110\u001b[0m         \u001b[0mUpdates\u001b[0m \u001b[0mthe\u001b[0m \u001b[0mentire\u001b[0m \u001b[0mGUI\u001b[0m\u001b[1;33m,\u001b[0m \u001b[1;32mand\u001b[0m \u001b[0manimates\u001b[0m \u001b[0ma\u001b[0m \u001b[0mframe\u001b[0m\u001b[1;33m.\u001b[0m\u001b[1;33m\u001b[0m\u001b[1;33m\u001b[0m\u001b[0m\n\u001b[0;32m    111\u001b[0m         '''\n\u001b[1;32m--> 112\u001b[1;33m         \u001b[0mself\u001b[0m\u001b[1;33m.\u001b[0m\u001b[0mcanvas\u001b[0m\u001b[1;33m.\u001b[0m\u001b[0mdelete\u001b[0m\u001b[1;33m(\u001b[0m\u001b[1;34m\"all\"\u001b[0m\u001b[1;33m)\u001b[0m\u001b[1;33m\u001b[0m\u001b[1;33m\u001b[0m\u001b[0m\n\u001b[0m\u001b[0;32m    113\u001b[0m         self.canvas.create_text(30, 10, fill=\"white\", text=\"Score: \" +\n\u001b[0;32m    114\u001b[0m                                 str(self.score))\n",
      "\u001b[1;32m~\\anaconda3\\envs\\MLSnake\\lib\\tkinter\\__init__.py\u001b[0m in \u001b[0;36mdelete\u001b[1;34m(self, *args)\u001b[0m\n\u001b[0;32m   2512\u001b[0m     \u001b[1;32mdef\u001b[0m \u001b[0mdelete\u001b[0m\u001b[1;33m(\u001b[0m\u001b[0mself\u001b[0m\u001b[1;33m,\u001b[0m \u001b[1;33m*\u001b[0m\u001b[0margs\u001b[0m\u001b[1;33m)\u001b[0m\u001b[1;33m:\u001b[0m\u001b[1;33m\u001b[0m\u001b[1;33m\u001b[0m\u001b[0m\n\u001b[0;32m   2513\u001b[0m         \u001b[1;34m\"\"\"Delete items identified by all tag or ids contained in ARGS.\"\"\"\u001b[0m\u001b[1;33m\u001b[0m\u001b[1;33m\u001b[0m\u001b[0m\n\u001b[1;32m-> 2514\u001b[1;33m         \u001b[0mself\u001b[0m\u001b[1;33m.\u001b[0m\u001b[0mtk\u001b[0m\u001b[1;33m.\u001b[0m\u001b[0mcall\u001b[0m\u001b[1;33m(\u001b[0m\u001b[1;33m(\u001b[0m\u001b[0mself\u001b[0m\u001b[1;33m.\u001b[0m\u001b[0m_w\u001b[0m\u001b[1;33m,\u001b[0m \u001b[1;34m'delete'\u001b[0m\u001b[1;33m)\u001b[0m \u001b[1;33m+\u001b[0m \u001b[0margs\u001b[0m\u001b[1;33m)\u001b[0m\u001b[1;33m\u001b[0m\u001b[1;33m\u001b[0m\u001b[0m\n\u001b[0m\u001b[0;32m   2515\u001b[0m     \u001b[1;32mdef\u001b[0m \u001b[0mdtag\u001b[0m\u001b[1;33m(\u001b[0m\u001b[0mself\u001b[0m\u001b[1;33m,\u001b[0m \u001b[1;33m*\u001b[0m\u001b[0margs\u001b[0m\u001b[1;33m)\u001b[0m\u001b[1;33m:\u001b[0m\u001b[1;33m\u001b[0m\u001b[1;33m\u001b[0m\u001b[0m\n\u001b[0;32m   2516\u001b[0m         \"\"\"Delete tag or id given as last arguments in ARGS from items\n",
      "\u001b[1;31mTclError\u001b[0m: invalid command name \".!canvas\""
     ]
    }
   ],
   "source": [
    "game = snake.game(queue.Queue(1))\n",
    "\n",
    "for x in range(1000):\n",
    "    return_queue = queue.Queue(1)\n",
    "\n",
    "    agent_thread = threading.Thread(target=agent, args=(game, x))\n",
    "    agent_thread.start()\n",
    "\n",
    "    game.start(return_queue)\n",
    "    agent_thread.join()\n",
    "\n",
    "game.w.destroy()"
   ]
  },
  {
   "cell_type": "code",
   "execution_count": null,
   "metadata": {},
   "outputs": [],
   "source": []
  }
 ]
}