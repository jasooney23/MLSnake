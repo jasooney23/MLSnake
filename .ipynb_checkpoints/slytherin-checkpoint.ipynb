{
 "cells": [
  {
   "cell_type": "markdown",
   "metadata": {},
   "source": [
    "#Q Table: Running this cell resets the table."
   ]
  },
  {
   "cell_type": "code",
   "execution_count": 6,
   "metadata": {},
   "outputs": [],
   "source": [
    "q = {}"
   ]
  },
  {
   "cell_type": "code",
   "execution_count": 7,
   "metadata": {
    "tags": []
   },
   "outputs": [],
   "source": [
    "import snake, threading, time, random, queue, random\n",
    "import numpy as np\n",
    "directions = {0 : \"UP\", 1 : \"DOWN\", 2 : \"LEFT\", 3 : \"RIGHT\"}\n",
    "return_queue = queue.Queue(1)"
   ]
  },
  {
   "cell_type": "code",
   "execution_count": 8,
   "metadata": {},
   "outputs": [],
   "source": [
    "epsilon = 0.5\n",
    "rate = 1"
   ]
  },
  {
   "cell_type": "code",
   "execution_count": 19,
   "metadata": {},
   "outputs": [],
   "source": [
    "def flatten_state(state):\n",
    "    flat = \"\"\n",
    "    for y in state:\n",
    "        for x in y:\n",
    "            flat += str(x)\n",
    "    return flat"
   ]
  },
  {
   "cell_type": "code",
   "execution_count": 10,
   "metadata": {},
   "outputs": [],
   "source": [
    "def init_state(state):\n",
    "    flat = flatten_state(state)\n",
    "    q[flat] = np.array([random.random(), random.random(), random.random(), random.random()])"
   ]
  },
  {
   "cell_type": "code",
   "execution_count": 12,
   "metadata": {
    "tags": []
   },
   "outputs": [],
   "source": [
    "def agent(game):\n",
    "    print(\"Agent thread started.\")\n",
    "    while game.running:\n",
    "        game.step(\"RIGHT\")\n",
    "        while return_queue.empty():\n",
    "            pass\n",
    "\n",
    "        state_reward = return_queue.get()\n",
    "        time.sleep(1)\n",
    "\n",
    "    print(\"Agent thread joined.\")"
   ]
  },
  {
   "cell_type": "code",
   "execution_count": 5,
   "metadata": {
    "tags": []
   },
   "outputs": [
    {
     "name": "stdout",
     "output_type": "stream",
     "text": [
      "Agent thread started.\n",
      "Agent thread joined.\n"
     ]
    }
   ],
   "source": [
    "return_queue = queue.Queue(1)\n",
    "game = snake.game(return_queue)\n",
    "\n",
    "agent_thread = threading.Thread(target=agent, args=(game,))\n",
    "agent_thread.start()\n",
    "\n",
    "game.start()\n",
    "agent_thread.join()"
   ]
  },
  {
   "cell_type": "code",
   "execution_count": null,
   "metadata": {},
   "outputs": [],
   "source": []
  }
 ],
 "metadata": {
  "kernelspec": {
   "display_name": "Python 3",
   "language": "python",
   "name": "python3"
  },
  "language_info": {
   "codemirror_mode": {
    "name": "ipython",
    "version": 3
   },
   "file_extension": ".py",
   "mimetype": "text/x-python",
   "name": "python",
   "nbconvert_exporter": "python",
   "pygments_lexer": "ipython3",
   "version": "3.8.3"
  }
 },
 "nbformat": 4,
 "nbformat_minor": 2
}
